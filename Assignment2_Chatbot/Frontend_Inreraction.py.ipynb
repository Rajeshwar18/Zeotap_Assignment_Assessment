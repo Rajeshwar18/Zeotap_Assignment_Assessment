{
 "cells": [
  {
   "cell_type": "code",
   "execution_count": 1,
   "id": "c5a973b4",
   "metadata": {},
   "outputs": [
    {
     "name": "stdout",
     "output_type": "stream",
     "text": [
      "Requirement already satisfied: flask in c:\\users\\i\\anaconda3\\lib\\site-packages (1.1.2)\n",
      "Collecting elasticsearch\n",
      "  Downloading elasticsearch-8.17.0-py3-none-any.whl (571 kB)\n",
      "     -------------------------------------- 571.2/571.2 kB 2.4 MB/s eta 0:00:00\n",
      "Requirement already satisfied: nltk in c:\\users\\i\\anaconda3\\lib\\site-packages (3.7)\n",
      "Requirement already satisfied: itsdangerous>=0.24 in c:\\users\\i\\anaconda3\\lib\\site-packages (from flask) (2.0.1)\n",
      "Requirement already satisfied: click>=5.1 in c:\\users\\i\\anaconda3\\lib\\site-packages (from flask) (8.0.4)\n",
      "Requirement already satisfied: Werkzeug>=0.15 in c:\\users\\i\\anaconda3\\lib\\site-packages (from flask) (2.0.3)\n",
      "Requirement already satisfied: Jinja2>=2.10.1 in c:\\users\\i\\anaconda3\\lib\\site-packages (from flask) (2.11.3)\n",
      "Collecting elastic-transport<9,>=8.15.1\n",
      "  Downloading elastic_transport-8.17.0-py3-none-any.whl (64 kB)\n",
      "     ---------------------------------------- 64.5/64.5 kB 3.4 MB/s eta 0:00:00\n",
      "Requirement already satisfied: joblib in c:\\users\\i\\anaconda3\\lib\\site-packages (from nltk) (1.1.0)\n",
      "Requirement already satisfied: tqdm in c:\\users\\i\\anaconda3\\lib\\site-packages (from nltk) (4.64.1)\n",
      "Requirement already satisfied: regex>=2021.8.3 in c:\\users\\i\\anaconda3\\lib\\site-packages (from nltk) (2022.7.9)\n",
      "Requirement already satisfied: colorama in c:\\users\\i\\anaconda3\\lib\\site-packages (from click>=5.1->flask) (0.4.5)\n",
      "Requirement already satisfied: certifi in c:\\users\\i\\anaconda3\\lib\\site-packages (from elastic-transport<9,>=8.15.1->elasticsearch) (2022.9.14)\n",
      "Requirement already satisfied: urllib3<3,>=1.26.2 in c:\\users\\i\\anaconda3\\lib\\site-packages (from elastic-transport<9,>=8.15.1->elasticsearch) (1.26.11)\n",
      "Requirement already satisfied: MarkupSafe>=0.23 in c:\\users\\i\\anaconda3\\lib\\site-packages (from Jinja2>=2.10.1->flask) (2.0.1)\n",
      "Installing collected packages: elastic-transport, elasticsearch\n",
      "Successfully installed elastic-transport-8.17.0 elasticsearch-8.17.0\n",
      "Note: you may need to restart the kernel to use updated packages.\n"
     ]
    }
   ],
   "source": [
    "pip install flask elasticsearch nltk\n"
   ]
  },
  {
   "cell_type": "code",
   "execution_count": null,
   "id": "209b2c25",
   "metadata": {},
   "outputs": [],
   "source": [
    "import requests\n",
    "from IPython.display import display, HTML\n",
    "\n",
    "# Define Flask server URL\n",
    "base_url = \"http://localhost:5000/ask\"\n",
    "\n",
    "# Function to ask the chatbot\n",
    "def ask_chatbot(question):\n",
    "    response = requests.post(base_url, json={\"question\": question})\n",
    "    answer = response.json().get(\"answer\", \"No response\")\n",
    "    return answer\n",
    "\n",
    "# Displaying the chatbot interface in the Jupyter Notebook\n",
    "question = input(\"Ask a question about the CDPs: \")\n",
    "answer = ask_chatbot(question)\n",
    "display(HTML(f\"<p><strong>Question:</strong> {question}</p>\"))\n",
    "display(HTML(f\"<p><strong>Answer:</strong> {answer}</p>\"))\n"
   ]
  }
 ],
 "metadata": {
  "kernelspec": {
   "display_name": "Python 3 (ipykernel)",
   "language": "python",
   "name": "python3"
  },
  "language_info": {
   "codemirror_mode": {
    "name": "ipython",
    "version": 3
   },
   "file_extension": ".py",
   "mimetype": "text/x-python",
   "name": "python",
   "nbconvert_exporter": "python",
   "pygments_lexer": "ipython3",
   "version": "3.9.13"
  }
 },
 "nbformat": 4,
 "nbformat_minor": 5
}
